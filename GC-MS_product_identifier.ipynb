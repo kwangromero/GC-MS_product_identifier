{
 "cells": [
  {
   "cell_type": "markdown",
   "id": "e436fa4c",
   "metadata": {},
   "source": [
    "## Description\n",
    "\n",
    "- 1) Input the mass seen from a GC-MS output in the variable, `obs_GC_mass`, found in section 1.\n",
    "- 2) Manually input all possible masses of molecular fragments into a separate csv document located in a folder titled 'data'"
   ]
  },
  {
   "cell_type": "markdown",
   "id": "ed22676b",
   "metadata": {},
   "source": [
    "## 1. Input mass seen on GC"
   ]
  },
  {
   "cell_type": "code",
   "execution_count": 18,
   "id": "f9c54e56",
   "metadata": {},
   "outputs": [],
   "source": [
    "obs_GC_mass = 240"
   ]
  },
  {
   "cell_type": "markdown",
   "id": "395a4b61",
   "metadata": {},
   "source": [
    "### 1.1 Import necessary libraries"
   ]
  },
  {
   "cell_type": "code",
   "execution_count": 19,
   "id": "e0bbb002",
   "metadata": {},
   "outputs": [],
   "source": [
    "import pandas as pd\n",
    "from itertools import combinations, combinations_with_replacement\n",
    "import itertools\n",
    "import numpy as np\n",
    "from datetime import datetime"
   ]
  },
  {
   "cell_type": "markdown",
   "id": "888e6c0c",
   "metadata": {},
   "source": [
    "### 1.2 Load the data"
   ]
  },
  {
   "cell_type": "code",
   "execution_count": 20,
   "id": "99b1faa5",
   "metadata": {},
   "outputs": [],
   "source": [
    "data_fragment = pd.read_csv('data/fragment_molar-masses.csv')"
   ]
  },
  {
   "cell_type": "markdown",
   "id": "3d96a511",
   "metadata": {},
   "source": [
    "### 1.3 Building data dictionary"
   ]
  },
  {
   "cell_type": "code",
   "execution_count": 21,
   "id": "7f62fccb",
   "metadata": {},
   "outputs": [],
   "source": [
    "fragment_dict = dict(zip(data_fragment.fragment, data_fragment.MM))"
   ]
  },
  {
   "cell_type": "markdown",
   "id": "c3afc093",
   "metadata": {},
   "source": [
    "### 1.4 Building functions"
   ]
  },
  {
   "cell_type": "code",
   "execution_count": 22,
   "id": "81e15afc",
   "metadata": {},
   "outputs": [],
   "source": [
    "def make_combos(elements: list[str],a, y):\n",
    "    comb = []\n",
    "    i = 0\n",
    "    if a == True: # Unique combinations\n",
    "        while i < y:\n",
    "            comb.append(list(itertools.combinations(elements, i)))\n",
    "            i+=1\n",
    "    elif a == False: # general combinations\n",
    "        for n in range(0,y+1):\n",
    "            comb.append([i for i in combinations_with_replacement(elements,n)])\n",
    "\n",
    "    comb_tuples = list(itertools.chain.from_iterable(comb))\n",
    "    comb_lists = [list(x) for x in comb_tuples]\n",
    "    return comb_lists"
   ]
  },
  {
   "cell_type": "code",
   "execution_count": 23,
   "id": "1a4c3051",
   "metadata": {},
   "outputs": [],
   "source": [
    "def sum_MM(indiv_MMs):\n",
    "    combo_sum = []\n",
    "    for x in indiv_MMs:\n",
    "        x = sum(x)\n",
    "        combo_sum.append(x)\n",
    "    return combo_sum"
   ]
  },
  {
   "cell_type": "markdown",
   "id": "19eba931",
   "metadata": {},
   "source": [
    "### 1.5 Making Lists"
   ]
  },
  {
   "cell_type": "code",
   "execution_count": 24,
   "id": "3fca829f",
   "metadata": {},
   "outputs": [
    {
     "data": {
      "text/plain": [
       "['A',\n",
       " 'B1',\n",
       " 'B2',\n",
       " 'C1',\n",
       " 'C2(BF3)',\n",
       " 'D1',\n",
       " 'D2',\n",
       " 'E1',\n",
       " 'F1',\n",
       " 'F2',\n",
       " 'G1',\n",
       " 'G2',\n",
       " 'H1',\n",
       " 'H2',\n",
       " 'I1',\n",
       " 'I2',\n",
       " 'J1',\n",
       " 'J2',\n",
       " 'K1']"
      ]
     },
     "execution_count": 24,
     "metadata": {},
     "output_type": "execute_result"
    }
   ],
   "source": [
    "fragment_interested = data_fragment.query('Inclusion == \"x\"')\n",
    "fragment = list(fragment_interested['fragment'])\n",
    "fragment"
   ]
  },
  {
   "cell_type": "markdown",
   "id": "27b50b5f",
   "metadata": {},
   "source": [
    "# 2. Build Combination Tables: Molecules"
   ]
  },
  {
   "cell_type": "code",
   "execution_count": 25,
   "id": "697d1698",
   "metadata": {},
   "outputs": [],
   "source": [
    "combo_fragment = make_combos(fragment, True, 4)"
   ]
  },
  {
   "cell_type": "code",
   "execution_count": 26,
   "id": "1ba9f0ad",
   "metadata": {},
   "outputs": [],
   "source": [
    "combo_fragment_MM = make_combos(list(data_fragment['MM']), True, 4)"
   ]
  },
  {
   "cell_type": "code",
   "execution_count": 27,
   "id": "1a44e357",
   "metadata": {},
   "outputs": [],
   "source": [
    "combo_fragment_MM_sum = sum_MM(make_combos(list(data_fragment['MM']), True, 4))"
   ]
  },
  {
   "cell_type": "code",
   "execution_count": 28,
   "id": "5242b83b",
   "metadata": {},
   "outputs": [],
   "source": [
    "combo_lists_sum_pair = {'fragment combos': make_combos(fragment, True, 4), 'MM': sum_MM(make_combos(list(data_fragment['MM']), True, 4))}"
   ]
  },
  {
   "cell_type": "code",
   "execution_count": 29,
   "id": "a19f3ef8",
   "metadata": {},
   "outputs": [
    {
     "data": {
      "text/html": [
       "<div>\n",
       "<style scoped>\n",
       "    .dataframe tbody tr th:only-of-type {\n",
       "        vertical-align: middle;\n",
       "    }\n",
       "\n",
       "    .dataframe tbody tr th {\n",
       "        vertical-align: top;\n",
       "    }\n",
       "\n",
       "    .dataframe thead th {\n",
       "        text-align: right;\n",
       "    }\n",
       "</style>\n",
       "<table border=\"1\" class=\"dataframe\">\n",
       "  <thead>\n",
       "    <tr style=\"text-align: right;\">\n",
       "      <th></th>\n",
       "      <th>fragment combos</th>\n",
       "      <th>MM</th>\n",
       "    </tr>\n",
       "  </thead>\n",
       "  <tbody>\n",
       "    <tr>\n",
       "      <th>0</th>\n",
       "      <td>[]</td>\n",
       "      <td>0.00</td>\n",
       "    </tr>\n",
       "    <tr>\n",
       "      <th>1</th>\n",
       "      <td>[A]</td>\n",
       "      <td>178.23</td>\n",
       "    </tr>\n",
       "    <tr>\n",
       "      <th>2</th>\n",
       "      <td>[B1]</td>\n",
       "      <td>1.01</td>\n",
       "    </tr>\n",
       "    <tr>\n",
       "      <th>3</th>\n",
       "      <td>[B2]</td>\n",
       "      <td>232.28</td>\n",
       "    </tr>\n",
       "    <tr>\n",
       "      <th>4</th>\n",
       "      <td>[C1]</td>\n",
       "      <td>27.04</td>\n",
       "    </tr>\n",
       "    <tr>\n",
       "      <th>...</th>\n",
       "      <td>...</td>\n",
       "      <td>...</td>\n",
       "    </tr>\n",
       "    <tr>\n",
       "      <th>1155</th>\n",
       "      <td>[I1, J2, K1]</td>\n",
       "      <td>212.32</td>\n",
       "    </tr>\n",
       "    <tr>\n",
       "      <th>1156</th>\n",
       "      <td>[I2, J1, J2]</td>\n",
       "      <td>141.19</td>\n",
       "    </tr>\n",
       "    <tr>\n",
       "      <th>1157</th>\n",
       "      <td>[I2, J1, K1]</td>\n",
       "      <td>270.35</td>\n",
       "    </tr>\n",
       "    <tr>\n",
       "      <th>1158</th>\n",
       "      <td>[I2, J2, K1]</td>\n",
       "      <td>132.19</td>\n",
       "    </tr>\n",
       "    <tr>\n",
       "      <th>1159</th>\n",
       "      <td>[J1, J2, K1]</td>\n",
       "      <td>270.35</td>\n",
       "    </tr>\n",
       "  </tbody>\n",
       "</table>\n",
       "<p>1160 rows × 2 columns</p>\n",
       "</div>"
      ],
      "text/plain": [
       "     fragment combos      MM\n",
       "0                 []    0.00\n",
       "1                [A]  178.23\n",
       "2               [B1]    1.01\n",
       "3               [B2]  232.28\n",
       "4               [C1]   27.04\n",
       "...              ...     ...\n",
       "1155    [I1, J2, K1]  212.32\n",
       "1156    [I2, J1, J2]  141.19\n",
       "1157    [I2, J1, K1]  270.35\n",
       "1158    [I2, J2, K1]  132.19\n",
       "1159    [J1, J2, K1]  270.35\n",
       "\n",
       "[1160 rows x 2 columns]"
      ]
     },
     "execution_count": 29,
     "metadata": {},
     "output_type": "execute_result"
    }
   ],
   "source": [
    "df = pd.DataFrame(combo_lists_sum_pair)\n",
    "df"
   ]
  },
  {
   "cell_type": "code",
   "execution_count": 30,
   "id": "bbec4848",
   "metadata": {},
   "outputs": [
    {
     "name": "stdout",
     "output_type": "stream",
     "text": [
      "[163, 642, 769, 1029, 1125]\n"
     ]
    },
    {
     "data": {
      "text/html": [
       "<div>\n",
       "<style scoped>\n",
       "    .dataframe tbody tr th:only-of-type {\n",
       "        vertical-align: middle;\n",
       "    }\n",
       "\n",
       "    .dataframe tbody tr th {\n",
       "        vertical-align: top;\n",
       "    }\n",
       "\n",
       "    .dataframe thead th {\n",
       "        text-align: right;\n",
       "    }\n",
       "</style>\n",
       "<table border=\"1\" class=\"dataframe\">\n",
       "  <thead>\n",
       "    <tr style=\"text-align: right;\">\n",
       "      <th></th>\n",
       "      <th>fragment combos</th>\n",
       "      <th>MM</th>\n",
       "    </tr>\n",
       "  </thead>\n",
       "  <tbody>\n",
       "    <tr>\n",
       "      <th>163</th>\n",
       "      <td>[G2, H1]</td>\n",
       "      <td>240.05</td>\n",
       "    </tr>\n",
       "    <tr>\n",
       "      <th>642</th>\n",
       "      <td>[C1, E1, G2]</td>\n",
       "      <td>240.17</td>\n",
       "    </tr>\n",
       "    <tr>\n",
       "      <th>769</th>\n",
       "      <td>[C2(BF3), G2, H2]</td>\n",
       "      <td>239.60</td>\n",
       "    </tr>\n",
       "    <tr>\n",
       "      <th>1029</th>\n",
       "      <td>[F1, H2, K1]</td>\n",
       "      <td>240.04</td>\n",
       "    </tr>\n",
       "    <tr>\n",
       "      <th>1125</th>\n",
       "      <td>[H1, H2, I1]</td>\n",
       "      <td>239.04</td>\n",
       "    </tr>\n",
       "  </tbody>\n",
       "</table>\n",
       "</div>"
      ],
      "text/plain": [
       "        fragment combos      MM\n",
       "163            [G2, H1]  240.05\n",
       "642        [C1, E1, G2]  240.17\n",
       "769   [C2(BF3), G2, H2]  239.60\n",
       "1029       [F1, H2, K1]  240.04\n",
       "1125       [H1, H2, I1]  239.04"
      ]
     },
     "execution_count": 30,
     "metadata": {},
     "output_type": "execute_result"
    }
   ],
   "source": [
    "df_bool = pd.DataFrame(df['MM'].between((obs_GC_mass - 1),(obs_GC_mass + 1)))\n",
    "possible_combo = df_bool.query('MM == True').index.tolist()\n",
    "print(possible_combo)\n",
    "\n",
    "df.loc[possible_combo, :]"
   ]
  },
  {
   "cell_type": "code",
   "execution_count": 31,
   "id": "bb02f0ce",
   "metadata": {},
   "outputs": [
    {
     "name": "stdout",
     "output_type": "stream",
     "text": [
      "Current Time = 14:24:09\n"
     ]
    }
   ],
   "source": [
    "now = datetime.now()\n",
    "\n",
    "current_time = now.strftime(\"%H:%M:%S\")\n",
    "print(\"Current Time =\", current_time)"
   ]
  }
 ],
 "metadata": {
  "kernelspec": {
   "display_name": "Python 3 (ipykernel)",
   "language": "python",
   "name": "python3"
  },
  "language_info": {
   "codemirror_mode": {
    "name": "ipython",
    "version": 3
   },
   "file_extension": ".py",
   "mimetype": "text/x-python",
   "name": "python",
   "nbconvert_exporter": "python",
   "pygments_lexer": "ipython3",
   "version": "3.9.12"
  }
 },
 "nbformat": 4,
 "nbformat_minor": 5
}
